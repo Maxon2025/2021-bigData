{
 "cells": [
  {
   "cell_type": "markdown",
   "metadata": {},
   "source": [
    "*Импортируем модули*"
   ]
  },
  {
   "cell_type": "code",
   "execution_count": 1,
   "metadata": {},
   "outputs": [],
   "source": [
    "import numpy as np\n",
    "import pandas as pd\n",
    "from utils.plot import plot_bars"
   ]
  },
  {
   "cell_type": "markdown",
   "metadata": {},
   "source": [
    "*Загружаем данные*"
   ]
  },
  {
   "cell_type": "code",
   "execution_count": 2,
   "metadata": {},
   "outputs": [],
   "source": [
    "df = pd.read_csv('data/flavors_of_cacao.csv', delimiter=',')"
   ]
  },
  {
   "cell_type": "markdown",
   "metadata": {},
   "source": [
    "*Выведем выборку для наглядности*"
   ]
  },
  {
   "cell_type": "code",
   "execution_count": 3,
   "metadata": {},
   "outputs": [
    {
     "data": {
      "text/html": [
       "<div>\n",
       "<style scoped>\n",
       "    .dataframe tbody tr th:only-of-type {\n",
       "        vertical-align: middle;\n",
       "    }\n",
       "\n",
       "    .dataframe tbody tr th {\n",
       "        vertical-align: top;\n",
       "    }\n",
       "\n",
       "    .dataframe thead th {\n",
       "        text-align: right;\n",
       "    }\n",
       "</style>\n",
       "<table border=\"1\" class=\"dataframe\">\n",
       "  <thead>\n",
       "    <tr style=\"text-align: right;\">\n",
       "      <th></th>\n",
       "      <th>Company (Maker-if known)</th>\n",
       "      <th>Specific Bean Originor Bar Name</th>\n",
       "      <th>REF</th>\n",
       "      <th>Review Date</th>\n",
       "      <th>Cocoa Percent</th>\n",
       "      <th>Company Location</th>\n",
       "      <th>Rating</th>\n",
       "      <th>Bean Type</th>\n",
       "      <th>Broad Bean Origin</th>\n",
       "    </tr>\n",
       "  </thead>\n",
       "  <tbody>\n",
       "    <tr>\n",
       "      <th>0</th>\n",
       "      <td>A. Morin</td>\n",
       "      <td>Agua Grande</td>\n",
       "      <td>1876</td>\n",
       "      <td>2016</td>\n",
       "      <td>63%</td>\n",
       "      <td>France</td>\n",
       "      <td>3.75</td>\n",
       "      <td></td>\n",
       "      <td>Sao Tome</td>\n",
       "    </tr>\n",
       "    <tr>\n",
       "      <th>1</th>\n",
       "      <td>A. Morin</td>\n",
       "      <td>Kpime</td>\n",
       "      <td>1676</td>\n",
       "      <td>2015</td>\n",
       "      <td>70%</td>\n",
       "      <td>France</td>\n",
       "      <td>2.75</td>\n",
       "      <td></td>\n",
       "      <td>Togo</td>\n",
       "    </tr>\n",
       "    <tr>\n",
       "      <th>2</th>\n",
       "      <td>A. Morin</td>\n",
       "      <td>Atsane</td>\n",
       "      <td>1676</td>\n",
       "      <td>2015</td>\n",
       "      <td>70%</td>\n",
       "      <td>France</td>\n",
       "      <td>3.00</td>\n",
       "      <td></td>\n",
       "      <td>Togo</td>\n",
       "    </tr>\n",
       "    <tr>\n",
       "      <th>3</th>\n",
       "      <td>A. Morin</td>\n",
       "      <td>Akata</td>\n",
       "      <td>1680</td>\n",
       "      <td>2015</td>\n",
       "      <td>70%</td>\n",
       "      <td>France</td>\n",
       "      <td>3.50</td>\n",
       "      <td></td>\n",
       "      <td>Togo</td>\n",
       "    </tr>\n",
       "    <tr>\n",
       "      <th>4</th>\n",
       "      <td>A. Morin</td>\n",
       "      <td>Quilla</td>\n",
       "      <td>1704</td>\n",
       "      <td>2015</td>\n",
       "      <td>70%</td>\n",
       "      <td>France</td>\n",
       "      <td>3.50</td>\n",
       "      <td></td>\n",
       "      <td>Peru</td>\n",
       "    </tr>\n",
       "  </tbody>\n",
       "</table>\n",
       "</div>"
      ],
      "text/plain": [
       "  Company (Maker-if known) Specific Bean Originor Bar Name   REF  Review Date  \\\n",
       "0                 A. Morin                     Agua Grande  1876         2016   \n",
       "1                 A. Morin                           Kpime  1676         2015   \n",
       "2                 A. Morin                          Atsane  1676         2015   \n",
       "3                 A. Morin                           Akata  1680         2015   \n",
       "4                 A. Morin                          Quilla  1704         2015   \n",
       "\n",
       "  Cocoa Percent Company Location  Rating Bean Type Broad Bean Origin  \n",
       "0           63%           France    3.75                    Sao Tome  \n",
       "1           70%           France    2.75                        Togo  \n",
       "2           70%           France    3.00                        Togo  \n",
       "3           70%           France    3.50                        Togo  \n",
       "4           70%           France    3.50                        Peru  "
      ]
     },
     "execution_count": 3,
     "metadata": {},
     "output_type": "execute_result"
    }
   ],
   "source": [
    "df.head()"
   ]
  },
  {
   "cell_type": "markdown",
   "metadata": {},
   "source": [
    "*Оценим целостность данных (количество NaN по столбцам)*"
   ]
  },
  {
   "cell_type": "code",
   "execution_count": 4,
   "metadata": {},
   "outputs": [
    {
     "data": {
      "text/plain": [
       "Company (Maker-if known)           0\n",
       "Specific Bean Originor Bar Name    0\n",
       "REF                                0\n",
       "Review Date                        0\n",
       "Cocoa Percent                      0\n",
       "Company Location                   0\n",
       "Rating                             0\n",
       "Bean Type                          1\n",
       "Broad Bean Origin                  1\n",
       "dtype: int64"
      ]
     },
     "execution_count": 4,
     "metadata": {},
     "output_type": "execute_result"
    }
   ],
   "source": [
    "df.isnull().sum()"
   ]
  },
  {
   "cell_type": "code",
   "execution_count": 5,
   "metadata": {},
   "outputs": [],
   "source": [
    "group_filter = lambda x: len(x) > 1"
   ]
  },
  {
   "cell_type": "markdown",
   "metadata": {},
   "source": [
    "**Задание 1.** Сгруппировать оценки по:\n",
    "<br>\n",
    "a. Годам проведения дегустации (Review Date)\n",
    "<br>\n",
    "b. Первой цифре поля REF\n",
    "<br>\n",
    "c. Стране компании (Company Location)\n",
    "<br>\n",
    "d. Происхождению какао-бобов (Broad Bean Origin)"
   ]
  },
  {
   "cell_type": "markdown",
   "metadata": {},
   "source": [
    "*__Этап 1.__ Выполним группировку рейтинга (Rating) в соответствии с частями задания*"
   ]
  },
  {
   "cell_type": "code",
   "execution_count": 6,
   "metadata": {},
   "outputs": [],
   "source": [
    "# a. Выполним группировку рейтинга (Rating) по годам проведения дегустации (Review Date) и исключим группы, где всего один элемент\n",
    "review_grouped_rating = df.groupby('Review Date').filter(group_filter).groupby('Review Date')['Rating']\n",
    "\n",
    "# b. Выполним группировку рейтинга (Rating) по первой цифре поля REF и исключим группы, где всего один элемент\n",
    "ref_first_digit = [str(w)[0] for w in df['REF']]\n",
    "ref_grouped_rating = df.groupby(ref_first_digit).filter(group_filter).groupby(ref_first_digit)['Rating']\n",
    "\n",
    "# c. Выполним группировку рейтинга (Rating) по стране происхождения (Company Location) и исключим группы, где всего один элемент\n",
    "company_grouped_rating = df.groupby('Company Location').filter(group_filter).groupby('Company Location')['Rating']\n",
    "\n",
    "# d. Выполним группировку рейтинга (Rating) по происхождению какао-бобов (Broad Bean Origin) и исключим группы, где всего один элемент\n",
    "origin_grouped_rating = df.groupby('Broad Bean Origin').filter(group_filter).groupby('Broad Bean Origin')['Rating']"
   ]
  },
  {
   "cell_type": "markdown",
   "metadata": {},
   "source": [
    "**Задание 2.** Оценить: дисперсию, среднее, медианное и СКО поля \"Rating\" для каждого поля отдельно. Сравнить с аналогичными показателями общего поля \"Rating\" (по всему списку). Результат представить в удобном для восприятия виде, например, таблицей"
   ]
  },
  {
   "cell_type": "code",
   "execution_count": 7,
   "metadata": {},
   "outputs": [],
   "source": [
    "measures = ['var', 'std', 'mean', 'median']"
   ]
  },
  {
   "cell_type": "markdown",
   "metadata": {},
   "source": [
    "*__Этап 1.__ Рассчитаем дисперсию (var), среднее (mean), медианное (median) и СКО (std) рейтинга (Rating) для каждого группировочного основания (см. <u>задание 1</u>)*"
   ]
  },
  {
   "cell_type": "markdown",
   "metadata": {},
   "source": [
    "*a. Рассчитаем показатели рейтинга (Rating), сгруппированного по годам проведения дегустации (Review Date)*"
   ]
  },
  {
   "cell_type": "code",
   "execution_count": 8,
   "metadata": {},
   "outputs": [
    {
     "data": {
      "text/html": [
       "<div>\n",
       "<style scoped>\n",
       "    .dataframe tbody tr th:only-of-type {\n",
       "        vertical-align: middle;\n",
       "    }\n",
       "\n",
       "    .dataframe tbody tr th {\n",
       "        vertical-align: top;\n",
       "    }\n",
       "\n",
       "    .dataframe thead th {\n",
       "        text-align: right;\n",
       "    }\n",
       "</style>\n",
       "<table border=\"1\" class=\"dataframe\">\n",
       "  <thead>\n",
       "    <tr style=\"text-align: right;\">\n",
       "      <th></th>\n",
       "      <th>var</th>\n",
       "      <th>std</th>\n",
       "      <th>mean</th>\n",
       "      <th>median</th>\n",
       "    </tr>\n",
       "    <tr>\n",
       "      <th>Review Date</th>\n",
       "      <th></th>\n",
       "      <th></th>\n",
       "      <th></th>\n",
       "      <th></th>\n",
       "    </tr>\n",
       "  </thead>\n",
       "  <tbody>\n",
       "    <tr>\n",
       "      <th>2006</th>\n",
       "      <td>0.59</td>\n",
       "      <td>0.77</td>\n",
       "      <td>3.12</td>\n",
       "      <td>3.00</td>\n",
       "    </tr>\n",
       "    <tr>\n",
       "      <th>2007</th>\n",
       "      <td>0.49</td>\n",
       "      <td>0.70</td>\n",
       "      <td>3.16</td>\n",
       "      <td>3.00</td>\n",
       "    </tr>\n",
       "    <tr>\n",
       "      <th>2008</th>\n",
       "      <td>0.30</td>\n",
       "      <td>0.54</td>\n",
       "      <td>2.99</td>\n",
       "      <td>3.00</td>\n",
       "    </tr>\n",
       "    <tr>\n",
       "      <th>2009</th>\n",
       "      <td>0.21</td>\n",
       "      <td>0.46</td>\n",
       "      <td>3.07</td>\n",
       "      <td>3.00</td>\n",
       "    </tr>\n",
       "    <tr>\n",
       "      <th>2010</th>\n",
       "      <td>0.22</td>\n",
       "      <td>0.47</td>\n",
       "      <td>3.15</td>\n",
       "      <td>3.25</td>\n",
       "    </tr>\n",
       "  </tbody>\n",
       "</table>\n",
       "</div>"
      ],
      "text/plain": [
       "              var   std  mean  median\n",
       "Review Date                          \n",
       "2006         0.59  0.77  3.12    3.00\n",
       "2007         0.49  0.70  3.16    3.00\n",
       "2008         0.30  0.54  2.99    3.00\n",
       "2009         0.21  0.46  3.07    3.00\n",
       "2010         0.22  0.47  3.15    3.25"
      ]
     },
     "execution_count": 8,
     "metadata": {},
     "output_type": "execute_result"
    }
   ],
   "source": [
    "review_basis_measure = review_grouped_rating.agg(measures)\n",
    "review_basis_measure.round(2).head()"
   ]
  },
  {
   "cell_type": "markdown",
   "metadata": {},
   "source": [
    "*b. Рассчитаем показатели рейтинга (Rating), сгруппированного по первой цифре поля REF*"
   ]
  },
  {
   "cell_type": "code",
   "execution_count": 9,
   "metadata": {},
   "outputs": [
    {
     "data": {
      "text/html": [
       "<div>\n",
       "<style scoped>\n",
       "    .dataframe tbody tr th:only-of-type {\n",
       "        vertical-align: middle;\n",
       "    }\n",
       "\n",
       "    .dataframe tbody tr th {\n",
       "        vertical-align: top;\n",
       "    }\n",
       "\n",
       "    .dataframe thead th {\n",
       "        text-align: right;\n",
       "    }\n",
       "</style>\n",
       "<table border=\"1\" class=\"dataframe\">\n",
       "  <thead>\n",
       "    <tr style=\"text-align: right;\">\n",
       "      <th></th>\n",
       "      <th>var</th>\n",
       "      <th>std</th>\n",
       "      <th>mean</th>\n",
       "      <th>median</th>\n",
       "    </tr>\n",
       "    <tr>\n",
       "      <th>REF First Digit</th>\n",
       "      <th></th>\n",
       "      <th></th>\n",
       "      <th></th>\n",
       "      <th></th>\n",
       "    </tr>\n",
       "  </thead>\n",
       "  <tbody>\n",
       "    <tr>\n",
       "      <th>1</th>\n",
       "      <td>0.20</td>\n",
       "      <td>0.44</td>\n",
       "      <td>3.21</td>\n",
       "      <td>3.25</td>\n",
       "    </tr>\n",
       "    <tr>\n",
       "      <th>2</th>\n",
       "      <td>0.32</td>\n",
       "      <td>0.56</td>\n",
       "      <td>3.01</td>\n",
       "      <td>3.00</td>\n",
       "    </tr>\n",
       "    <tr>\n",
       "      <th>3</th>\n",
       "      <td>0.27</td>\n",
       "      <td>0.52</td>\n",
       "      <td>3.13</td>\n",
       "      <td>3.00</td>\n",
       "    </tr>\n",
       "    <tr>\n",
       "      <th>4</th>\n",
       "      <td>0.29</td>\n",
       "      <td>0.54</td>\n",
       "      <td>3.07</td>\n",
       "      <td>3.00</td>\n",
       "    </tr>\n",
       "    <tr>\n",
       "      <th>5</th>\n",
       "      <td>0.22</td>\n",
       "      <td>0.47</td>\n",
       "      <td>3.16</td>\n",
       "      <td>3.25</td>\n",
       "    </tr>\n",
       "  </tbody>\n",
       "</table>\n",
       "</div>"
      ],
      "text/plain": [
       "                  var   std  mean  median\n",
       "REF First Digit                          \n",
       "1                0.20  0.44  3.21    3.25\n",
       "2                0.32  0.56  3.01    3.00\n",
       "3                0.27  0.52  3.13    3.00\n",
       "4                0.29  0.54  3.07    3.00\n",
       "5                0.22  0.47  3.16    3.25"
      ]
     },
     "execution_count": 9,
     "metadata": {},
     "output_type": "execute_result"
    }
   ],
   "source": [
    "ref_basis_measure = ref_grouped_rating.agg(measures)\n",
    "ref_basis_measure.index.name = 'REF First Digit'\n",
    "\n",
    "ref_basis_measure.round(2).head()"
   ]
  },
  {
   "cell_type": "markdown",
   "metadata": {},
   "source": [
    "*c. Рассчитаем показатели рейтинга (Rating), сгруппированного по стране компании (Company Location)*"
   ]
  },
  {
   "cell_type": "code",
   "execution_count": 10,
   "metadata": {},
   "outputs": [
    {
     "data": {
      "text/html": [
       "<div>\n",
       "<style scoped>\n",
       "    .dataframe tbody tr th:only-of-type {\n",
       "        vertical-align: middle;\n",
       "    }\n",
       "\n",
       "    .dataframe tbody tr th {\n",
       "        vertical-align: top;\n",
       "    }\n",
       "\n",
       "    .dataframe thead th {\n",
       "        text-align: right;\n",
       "    }\n",
       "</style>\n",
       "<table border=\"1\" class=\"dataframe\">\n",
       "  <thead>\n",
       "    <tr style=\"text-align: right;\">\n",
       "      <th></th>\n",
       "      <th>var</th>\n",
       "      <th>std</th>\n",
       "      <th>mean</th>\n",
       "      <th>median</th>\n",
       "    </tr>\n",
       "    <tr>\n",
       "      <th>Company Location</th>\n",
       "      <th></th>\n",
       "      <th></th>\n",
       "      <th></th>\n",
       "      <th></th>\n",
       "    </tr>\n",
       "  </thead>\n",
       "  <tbody>\n",
       "    <tr>\n",
       "      <th>Amsterdam</th>\n",
       "      <td>0.04</td>\n",
       "      <td>0.20</td>\n",
       "      <td>3.50</td>\n",
       "      <td>3.50</td>\n",
       "    </tr>\n",
       "    <tr>\n",
       "      <th>Argentina</th>\n",
       "      <td>0.12</td>\n",
       "      <td>0.35</td>\n",
       "      <td>3.31</td>\n",
       "      <td>3.50</td>\n",
       "    </tr>\n",
       "    <tr>\n",
       "      <th>Australia</th>\n",
       "      <td>0.17</td>\n",
       "      <td>0.42</td>\n",
       "      <td>3.36</td>\n",
       "      <td>3.50</td>\n",
       "    </tr>\n",
       "    <tr>\n",
       "      <th>Austria</th>\n",
       "      <td>0.11</td>\n",
       "      <td>0.33</td>\n",
       "      <td>3.24</td>\n",
       "      <td>3.25</td>\n",
       "    </tr>\n",
       "    <tr>\n",
       "      <th>Belgium</th>\n",
       "      <td>0.67</td>\n",
       "      <td>0.82</td>\n",
       "      <td>3.09</td>\n",
       "      <td>3.25</td>\n",
       "    </tr>\n",
       "  </tbody>\n",
       "</table>\n",
       "</div>"
      ],
      "text/plain": [
       "                   var   std  mean  median\n",
       "Company Location                          \n",
       "Amsterdam         0.04  0.20  3.50    3.50\n",
       "Argentina         0.12  0.35  3.31    3.50\n",
       "Australia         0.17  0.42  3.36    3.50\n",
       "Austria           0.11  0.33  3.24    3.25\n",
       "Belgium           0.67  0.82  3.09    3.25"
      ]
     },
     "execution_count": 10,
     "metadata": {},
     "output_type": "execute_result"
    }
   ],
   "source": [
    "company_basis_measure = company_grouped_rating.agg(measures)\n",
    "company_basis_measure.round(2).head()"
   ]
  },
  {
   "cell_type": "markdown",
   "metadata": {},
   "source": [
    "*d. Рассчитаем показатели рейтинга (Rating), сгруппированного по происхождению какао-бобов (Broad Bean Origin)*"
   ]
  },
  {
   "cell_type": "code",
   "execution_count": 11,
   "metadata": {},
   "outputs": [
    {
     "data": {
      "text/html": [
       "<div>\n",
       "<style scoped>\n",
       "    .dataframe tbody tr th:only-of-type {\n",
       "        vertical-align: middle;\n",
       "    }\n",
       "\n",
       "    .dataframe tbody tr th {\n",
       "        vertical-align: top;\n",
       "    }\n",
       "\n",
       "    .dataframe thead th {\n",
       "        text-align: right;\n",
       "    }\n",
       "</style>\n",
       "<table border=\"1\" class=\"dataframe\">\n",
       "  <thead>\n",
       "    <tr style=\"text-align: right;\">\n",
       "      <th></th>\n",
       "      <th>var</th>\n",
       "      <th>std</th>\n",
       "      <th>mean</th>\n",
       "      <th>median</th>\n",
       "    </tr>\n",
       "    <tr>\n",
       "      <th>Broad Bean Origin</th>\n",
       "      <th></th>\n",
       "      <th></th>\n",
       "      <th></th>\n",
       "      <th></th>\n",
       "    </tr>\n",
       "  </thead>\n",
       "  <tbody>\n",
       "    <tr>\n",
       "      <th>Australia</th>\n",
       "      <td>0.25</td>\n",
       "      <td>0.50</td>\n",
       "      <td>3.25</td>\n",
       "      <td>3.25</td>\n",
       "    </tr>\n",
       "    <tr>\n",
       "      <th>Belize</th>\n",
       "      <td>0.10</td>\n",
       "      <td>0.32</td>\n",
       "      <td>3.23</td>\n",
       "      <td>3.25</td>\n",
       "    </tr>\n",
       "    <tr>\n",
       "      <th>Bolivia</th>\n",
       "      <td>0.18</td>\n",
       "      <td>0.42</td>\n",
       "      <td>3.20</td>\n",
       "      <td>3.25</td>\n",
       "    </tr>\n",
       "    <tr>\n",
       "      <th>Brazil</th>\n",
       "      <td>0.17</td>\n",
       "      <td>0.42</td>\n",
       "      <td>3.28</td>\n",
       "      <td>3.38</td>\n",
       "    </tr>\n",
       "    <tr>\n",
       "      <th>Carribean</th>\n",
       "      <td>0.28</td>\n",
       "      <td>0.53</td>\n",
       "      <td>2.97</td>\n",
       "      <td>3.00</td>\n",
       "    </tr>\n",
       "  </tbody>\n",
       "</table>\n",
       "</div>"
      ],
      "text/plain": [
       "                    var   std  mean  median\n",
       "Broad Bean Origin                          \n",
       "Australia          0.25  0.50  3.25    3.25\n",
       "Belize             0.10  0.32  3.23    3.25\n",
       "Bolivia            0.18  0.42  3.20    3.25\n",
       "Brazil             0.17  0.42  3.28    3.38\n",
       "Carribean          0.28  0.53  2.97    3.00"
      ]
     },
     "execution_count": 11,
     "metadata": {},
     "output_type": "execute_result"
    }
   ],
   "source": [
    "origin_basis_measure = origin_grouped_rating.agg(measures)\n",
    "origin_basis_measure.round(2).head()"
   ]
  },
  {
   "cell_type": "markdown",
   "metadata": {},
   "source": [
    "*__Этап 2.__ Рассчитаем общие дисперсию (var), среднее (mean), медиану (median) и СКО (std) рейтинга (Rating)*"
   ]
  },
  {
   "cell_type": "code",
   "execution_count": 12,
   "metadata": {},
   "outputs": [
    {
     "data": {
      "text/plain": [
       "var       0.23\n",
       "std       0.48\n",
       "mean      3.19\n",
       "median    3.25\n",
       "Name: Rating, dtype: float64"
      ]
     },
     "execution_count": 12,
     "metadata": {},
     "output_type": "execute_result"
    }
   ],
   "source": [
    "rating_measure = df[\"Rating\"].agg(measures)\n",
    "rating_measure.round(2)"
   ]
  },
  {
   "cell_type": "markdown",
   "metadata": {},
   "source": [
    "*__Этап 3.__ Сравним показатели сгруппированного рейтинга (Rating) с общими показателями рейтинга*"
   ]
  },
  {
   "cell_type": "markdown",
   "metadata": {},
   "source": [
    "*a. Рассчитаем разницу между показателями рейтинга (Rating), сгруппированного по годам проведения дегустации (Review Date), с общими показателями рейтинга*"
   ]
  },
  {
   "cell_type": "code",
   "execution_count": 13,
   "metadata": {},
   "outputs": [
    {
     "data": {
      "text/html": [
       "<div>\n",
       "<style scoped>\n",
       "    .dataframe tbody tr th:only-of-type {\n",
       "        vertical-align: middle;\n",
       "    }\n",
       "\n",
       "    .dataframe tbody tr th {\n",
       "        vertical-align: top;\n",
       "    }\n",
       "\n",
       "    .dataframe thead th {\n",
       "        text-align: right;\n",
       "    }\n",
       "</style>\n",
       "<table border=\"1\" class=\"dataframe\">\n",
       "  <thead>\n",
       "    <tr style=\"text-align: right;\">\n",
       "      <th></th>\n",
       "      <th>delta var</th>\n",
       "      <th>delta std</th>\n",
       "      <th>delta mean</th>\n",
       "      <th>delta median</th>\n",
       "    </tr>\n",
       "    <tr>\n",
       "      <th>Review Date</th>\n",
       "      <th></th>\n",
       "      <th></th>\n",
       "      <th></th>\n",
       "      <th></th>\n",
       "    </tr>\n",
       "  </thead>\n",
       "  <tbody>\n",
       "    <tr>\n",
       "      <th>2006</th>\n",
       "      <td>0.36</td>\n",
       "      <td>0.29</td>\n",
       "      <td>-0.06</td>\n",
       "      <td>-0.25</td>\n",
       "    </tr>\n",
       "    <tr>\n",
       "      <th>2007</th>\n",
       "      <td>0.26</td>\n",
       "      <td>0.22</td>\n",
       "      <td>-0.02</td>\n",
       "      <td>-0.25</td>\n",
       "    </tr>\n",
       "    <tr>\n",
       "      <th>2008</th>\n",
       "      <td>0.07</td>\n",
       "      <td>0.07</td>\n",
       "      <td>-0.19</td>\n",
       "      <td>-0.25</td>\n",
       "    </tr>\n",
       "    <tr>\n",
       "      <th>2009</th>\n",
       "      <td>-0.02</td>\n",
       "      <td>-0.02</td>\n",
       "      <td>-0.11</td>\n",
       "      <td>-0.25</td>\n",
       "    </tr>\n",
       "    <tr>\n",
       "      <th>2010</th>\n",
       "      <td>-0.01</td>\n",
       "      <td>-0.01</td>\n",
       "      <td>-0.04</td>\n",
       "      <td>0.00</td>\n",
       "    </tr>\n",
       "  </tbody>\n",
       "</table>\n",
       "</div>"
      ],
      "text/plain": [
       "             delta var  delta std  delta mean  delta median\n",
       "Review Date                                                \n",
       "2006              0.36       0.29       -0.06         -0.25\n",
       "2007              0.26       0.22       -0.02         -0.25\n",
       "2008              0.07       0.07       -0.19         -0.25\n",
       "2009             -0.02      -0.02       -0.11         -0.25\n",
       "2010             -0.01      -0.01       -0.04          0.00"
      ]
     },
     "execution_count": 13,
     "metadata": {},
     "output_type": "execute_result"
    }
   ],
   "source": [
    "review_basis_delta = review_basis_measure - rating_measure\n",
    "review_basis_delta.columns = ['delta var', 'delta std', 'delta mean', 'delta median']\n",
    "\n",
    "review_basis_delta.round(2).head()"
   ]
  },
  {
   "cell_type": "markdown",
   "metadata": {},
   "source": [
    "*b. Рассчитаем разницу между показателями рейтинга (Rating), сгруппированного по первой цифре поля REF, с общими показателями рейтинга*"
   ]
  },
  {
   "cell_type": "code",
   "execution_count": 14,
   "metadata": {},
   "outputs": [
    {
     "data": {
      "text/html": [
       "<div>\n",
       "<style scoped>\n",
       "    .dataframe tbody tr th:only-of-type {\n",
       "        vertical-align: middle;\n",
       "    }\n",
       "\n",
       "    .dataframe tbody tr th {\n",
       "        vertical-align: top;\n",
       "    }\n",
       "\n",
       "    .dataframe thead th {\n",
       "        text-align: right;\n",
       "    }\n",
       "</style>\n",
       "<table border=\"1\" class=\"dataframe\">\n",
       "  <thead>\n",
       "    <tr style=\"text-align: right;\">\n",
       "      <th></th>\n",
       "      <th>delta var</th>\n",
       "      <th>delta std</th>\n",
       "      <th>delta mean</th>\n",
       "      <th>delta median</th>\n",
       "    </tr>\n",
       "    <tr>\n",
       "      <th>REF First Digit</th>\n",
       "      <th></th>\n",
       "      <th></th>\n",
       "      <th></th>\n",
       "      <th></th>\n",
       "    </tr>\n",
       "  </thead>\n",
       "  <tbody>\n",
       "    <tr>\n",
       "      <th>1</th>\n",
       "      <td>-0.03</td>\n",
       "      <td>-0.04</td>\n",
       "      <td>0.02</td>\n",
       "      <td>0.00</td>\n",
       "    </tr>\n",
       "    <tr>\n",
       "      <th>2</th>\n",
       "      <td>0.09</td>\n",
       "      <td>0.09</td>\n",
       "      <td>-0.17</td>\n",
       "      <td>-0.25</td>\n",
       "    </tr>\n",
       "    <tr>\n",
       "      <th>3</th>\n",
       "      <td>0.04</td>\n",
       "      <td>0.04</td>\n",
       "      <td>-0.06</td>\n",
       "      <td>-0.25</td>\n",
       "    </tr>\n",
       "    <tr>\n",
       "      <th>4</th>\n",
       "      <td>0.06</td>\n",
       "      <td>0.06</td>\n",
       "      <td>-0.12</td>\n",
       "      <td>-0.25</td>\n",
       "    </tr>\n",
       "    <tr>\n",
       "      <th>5</th>\n",
       "      <td>-0.01</td>\n",
       "      <td>-0.01</td>\n",
       "      <td>-0.02</td>\n",
       "      <td>0.00</td>\n",
       "    </tr>\n",
       "  </tbody>\n",
       "</table>\n",
       "</div>"
      ],
      "text/plain": [
       "                 delta var  delta std  delta mean  delta median\n",
       "REF First Digit                                                \n",
       "1                    -0.03      -0.04        0.02          0.00\n",
       "2                     0.09       0.09       -0.17         -0.25\n",
       "3                     0.04       0.04       -0.06         -0.25\n",
       "4                     0.06       0.06       -0.12         -0.25\n",
       "5                    -0.01      -0.01       -0.02          0.00"
      ]
     },
     "execution_count": 14,
     "metadata": {},
     "output_type": "execute_result"
    }
   ],
   "source": [
    "ref_basis_delta = ref_basis_measure - rating_measure\n",
    "ref_basis_delta.columns = ['delta var', 'delta std', 'delta mean', 'delta median']\n",
    "\n",
    "ref_basis_delta.round(2).head()"
   ]
  },
  {
   "cell_type": "markdown",
   "metadata": {},
   "source": [
    "*c. Рассчитаем разницу между показателями рейтинга (Rating), сгруппированного по стране компании (Company Location), с общими показателями рейтинга*"
   ]
  },
  {
   "cell_type": "code",
   "execution_count": 15,
   "metadata": {},
   "outputs": [
    {
     "data": {
      "text/html": [
       "<div>\n",
       "<style scoped>\n",
       "    .dataframe tbody tr th:only-of-type {\n",
       "        vertical-align: middle;\n",
       "    }\n",
       "\n",
       "    .dataframe tbody tr th {\n",
       "        vertical-align: top;\n",
       "    }\n",
       "\n",
       "    .dataframe thead th {\n",
       "        text-align: right;\n",
       "    }\n",
       "</style>\n",
       "<table border=\"1\" class=\"dataframe\">\n",
       "  <thead>\n",
       "    <tr style=\"text-align: right;\">\n",
       "      <th></th>\n",
       "      <th>delta var</th>\n",
       "      <th>delta std</th>\n",
       "      <th>delta mean</th>\n",
       "      <th>delta median</th>\n",
       "    </tr>\n",
       "    <tr>\n",
       "      <th>Company Location</th>\n",
       "      <th></th>\n",
       "      <th></th>\n",
       "      <th></th>\n",
       "      <th></th>\n",
       "    </tr>\n",
       "  </thead>\n",
       "  <tbody>\n",
       "    <tr>\n",
       "      <th>Amsterdam</th>\n",
       "      <td>-0.19</td>\n",
       "      <td>-0.27</td>\n",
       "      <td>0.31</td>\n",
       "      <td>0.25</td>\n",
       "    </tr>\n",
       "    <tr>\n",
       "      <th>Argentina</th>\n",
       "      <td>-0.11</td>\n",
       "      <td>-0.13</td>\n",
       "      <td>0.12</td>\n",
       "      <td>0.25</td>\n",
       "    </tr>\n",
       "    <tr>\n",
       "      <th>Australia</th>\n",
       "      <td>-0.05</td>\n",
       "      <td>-0.06</td>\n",
       "      <td>0.17</td>\n",
       "      <td>0.25</td>\n",
       "    </tr>\n",
       "    <tr>\n",
       "      <th>Austria</th>\n",
       "      <td>-0.12</td>\n",
       "      <td>-0.15</td>\n",
       "      <td>0.05</td>\n",
       "      <td>0.00</td>\n",
       "    </tr>\n",
       "    <tr>\n",
       "      <th>Belgium</th>\n",
       "      <td>0.44</td>\n",
       "      <td>0.34</td>\n",
       "      <td>-0.09</td>\n",
       "      <td>0.00</td>\n",
       "    </tr>\n",
       "  </tbody>\n",
       "</table>\n",
       "</div>"
      ],
      "text/plain": [
       "                  delta var  delta std  delta mean  delta median\n",
       "Company Location                                                \n",
       "Amsterdam             -0.19      -0.27        0.31          0.25\n",
       "Argentina             -0.11      -0.13        0.12          0.25\n",
       "Australia             -0.05      -0.06        0.17          0.25\n",
       "Austria               -0.12      -0.15        0.05          0.00\n",
       "Belgium                0.44       0.34       -0.09          0.00"
      ]
     },
     "execution_count": 15,
     "metadata": {},
     "output_type": "execute_result"
    }
   ],
   "source": [
    "company_basis_delta = company_basis_measure - rating_measure\n",
    "company_basis_delta.columns = ['delta var', 'delta std', 'delta mean', 'delta median']\n",
    "\n",
    "company_basis_delta.round(2).head()"
   ]
  },
  {
   "cell_type": "markdown",
   "metadata": {},
   "source": [
    "*d. Рассчитаем разницу между показателями рейтинга (Rating), сгруппированного по стране компании (Company Location), с общими показателями рейтинга*"
   ]
  },
  {
   "cell_type": "code",
   "execution_count": 16,
   "metadata": {},
   "outputs": [
    {
     "data": {
      "text/html": [
       "<div>\n",
       "<style scoped>\n",
       "    .dataframe tbody tr th:only-of-type {\n",
       "        vertical-align: middle;\n",
       "    }\n",
       "\n",
       "    .dataframe tbody tr th {\n",
       "        vertical-align: top;\n",
       "    }\n",
       "\n",
       "    .dataframe thead th {\n",
       "        text-align: right;\n",
       "    }\n",
       "</style>\n",
       "<table border=\"1\" class=\"dataframe\">\n",
       "  <thead>\n",
       "    <tr style=\"text-align: right;\">\n",
       "      <th></th>\n",
       "      <th>delta var</th>\n",
       "      <th>delta std</th>\n",
       "      <th>delta mean</th>\n",
       "      <th>delta median</th>\n",
       "    </tr>\n",
       "    <tr>\n",
       "      <th>Broad Bean Origin</th>\n",
       "      <th></th>\n",
       "      <th></th>\n",
       "      <th></th>\n",
       "      <th></th>\n",
       "    </tr>\n",
       "  </thead>\n",
       "  <tbody>\n",
       "    <tr>\n",
       "      <th>Australia</th>\n",
       "      <td>0.02</td>\n",
       "      <td>0.02</td>\n",
       "      <td>0.06</td>\n",
       "      <td>0.00</td>\n",
       "    </tr>\n",
       "    <tr>\n",
       "      <th>Belize</th>\n",
       "      <td>-0.13</td>\n",
       "      <td>-0.16</td>\n",
       "      <td>0.05</td>\n",
       "      <td>0.00</td>\n",
       "    </tr>\n",
       "    <tr>\n",
       "      <th>Bolivia</th>\n",
       "      <td>-0.05</td>\n",
       "      <td>-0.06</td>\n",
       "      <td>0.01</td>\n",
       "      <td>0.00</td>\n",
       "    </tr>\n",
       "    <tr>\n",
       "      <th>Brazil</th>\n",
       "      <td>-0.05</td>\n",
       "      <td>-0.06</td>\n",
       "      <td>0.10</td>\n",
       "      <td>0.12</td>\n",
       "    </tr>\n",
       "    <tr>\n",
       "      <th>Carribean</th>\n",
       "      <td>0.05</td>\n",
       "      <td>0.05</td>\n",
       "      <td>-0.22</td>\n",
       "      <td>-0.25</td>\n",
       "    </tr>\n",
       "  </tbody>\n",
       "</table>\n",
       "</div>"
      ],
      "text/plain": [
       "                   delta var  delta std  delta mean  delta median\n",
       "Broad Bean Origin                                                \n",
       "Australia               0.02       0.02        0.06          0.00\n",
       "Belize                 -0.13      -0.16        0.05          0.00\n",
       "Bolivia                -0.05      -0.06        0.01          0.00\n",
       "Brazil                 -0.05      -0.06        0.10          0.12\n",
       "Carribean               0.05       0.05       -0.22         -0.25"
      ]
     },
     "execution_count": 16,
     "metadata": {},
     "output_type": "execute_result"
    }
   ],
   "source": [
    "origin_basis_delta = origin_basis_measure - rating_measure\n",
    "origin_basis_delta.columns = ['delta var', 'delta std', 'delta mean', 'delta median']\n",
    "\n",
    "origin_basis_delta.round(2).head()"
   ]
  },
  {
   "cell_type": "markdown",
   "metadata": {},
   "source": [
    "**Задание 3**. Оценить величины дисперсии и размаха (max-min) рейтинга (Rating) для различного содержания какао в процентах (Cocoa Percent)"
   ]
  },
  {
   "cell_type": "code",
   "execution_count": 17,
   "metadata": {},
   "outputs": [],
   "source": [
    "cocoa_grouped_rating = df.groupby(\"Cocoa Percent\").filter(group_filter).groupby(\"Cocoa Percent\")[\"Rating\"]\n",
    "perc_sort = lambda x: x.str.slice(stop=-1).astype(float)"
   ]
  },
  {
   "cell_type": "markdown",
   "metadata": {},
   "source": [
    "*__Этап 1.__ Рассчитаем дисперсию рейтинга (Rating) для различного содержания какао в процентах (Cocoa Percent)*"
   ]
  },
  {
   "cell_type": "code",
   "execution_count": 18,
   "metadata": {},
   "outputs": [
    {
     "data": {
      "image/png": "[encoded data removed]",
      "text/plain": [
       "<Figure size 1036.8x576 with 2 Axes>"
      ]
     },
     "metadata": {
      "needs_background": "light"
     },
     "output_type": "display_data"
    }
   ],
   "source": [
    "cocoa_basis_var = cocoa_grouped_rating.var().sort_index(key = perc_sort)\n",
    "\n",
    "title = 'Дисперсия рейтинга для различного содержания какао в процентах\\n'\n",
    "xlabel = 'Содержание какао в процентах'\n",
    "ylabel = 'Дисперсия'\n",
    "plot_bars(np.array_split(cocoa_basis_var.round(2), 2), title, xlabel, ylabel)"
   ]
  },
  {
   "cell_type": "markdown",
   "metadata": {},
   "source": [
    "*__Этап 2.__ Рассчитаем размах рейтинга (Rating) для различного содержания какао в процентах (Cocoa Percent)*"
   ]
  },
  {
   "cell_type": "code",
   "execution_count": 19,
   "metadata": {},
   "outputs": [
    {
     "data": {
      "image/png": "[encoded data removed]",
      "text/plain": [
       "<Figure size 1036.8x576 with 2 Axes>"
      ]
     },
     "metadata": {
      "needs_background": "light"
     },
     "output_type": "display_data"
    }
   ],
   "source": [
    "cocoa_basis_range = (cocoa_grouped_rating.max() - cocoa_grouped_rating.min()).sort_index(key = perc_sort)\n",
    "\n",
    "title = 'Размах рейтинга для различного содержания какао в процентах\\n'\n",
    "xlabel = 'Содержание какао в процентах'\n",
    "ylabel = 'Размах'\n",
    "plot_bars(np.array_split(cocoa_basis_range.round(2), 2), title, xlabel, ylabel)"
   ]
  }
 ],
 "metadata": {
  "interpreter": {
   "hash": "e6af04da90447f1467769b899b9685624f68d319964d18f2952ce634804d1582"
  },
  "kernelspec": {
   "display_name": "Python 3.10.3 ('env': venv)",
   "language": "python",
   "name": "python3"
  },
  "language_info": {
   "codemirror_mode": {
    "name": "ipython",
    "version": 3
   },
   "file_extension": ".py",
   "mimetype": "text/x-python",
   "name": "python",
   "nbconvert_exporter": "python",
   "pygments_lexer": "ipython3",
   "version": "3.10.4"
  },
  "orig_nbformat": 4
 },
 "nbformat": 4,
 "nbformat_minor": 2
}
