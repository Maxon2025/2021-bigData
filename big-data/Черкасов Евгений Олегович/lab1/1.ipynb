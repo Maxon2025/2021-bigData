{
 "cells": [
  {
   "cell_type": "code",
   "execution_count": 1,
   "id": "fc3e086d-cbbc-4242-8ab1-f01d014a1b9d",
   "metadata": {},
   "outputs": [],
   "source": [
    "import numpy as np\n",
    "import pandas as pd\n",
    "from math import factorial\n",
    "rng = np.random.default_rng()"
   ]
  },
  {
   "cell_type": "code",
   "execution_count": 32,
   "id": "d8d59544-42ef-4cad-8a2e-862777792340",
   "metadata": {},
   "outputs": [],
   "source": [
    "df1 = pd.DataFrame(rng.integers(-1000,5000,size=(9000,4)))\n",
    "df2 = pd.DataFrame(rng.random((9000,3)))\n",
    "\n",
    "data = pd.concat([df1,df2],axis=1)\n",
    "data.columns = [x for x in range(7)]\n",
    "data.to_csv('cherkasov',sep='\\t', index=False)"
   ]
  },
  {
   "cell_type": "code",
   "execution_count": 19,
   "id": "79aa3064-8953-4215-be4c-19124abd0795",
   "metadata": {},
   "outputs": [],
   "source": [
    "def corrupt_the_file(file):\n",
    "    frame = pd.read_csv(file,sep='\\t')\n",
    "    for i in range(int(len(frame)/100*5)):\n",
    "        frame.iat[rng.integers(0,len(frame)),rng.integers(0,4)] /= 2\n",
    "        frame.iat[rng.integers(0,len(frame)),rng.integers(4,7)] = None\n",
    "    frame.to_csv(file + '_corrupted', sep='\\t',index=False)\n",
    "    print(frame)\n"
   ]
  },
  {
   "cell_type": "code",
   "execution_count": 34,
   "id": "ae548dde-8ada-461f-9380-43e8382d16f7",
   "metadata": {},
   "outputs": [],
   "source": [
    "r = pd.read_csv('fomin',sep='\\t')"
   ]
  },
  {
   "cell_type": "code",
   "execution_count": 20,
   "id": "24007c01-de51-4e2f-aa00-25c4f8d4a203",
   "metadata": {},
   "outputs": [
    {
     "name": "stdout",
     "output_type": "stream",
     "text": [
      "           0       1       2       3         4         5         6\n",
      "0     1137.0  4065.0  2815.0  4783.0  0.460158  0.765467  0.272277\n",
      "1     2675.0  2001.0  4315.0  1393.0  0.956841  0.230590  0.448756\n",
      "2     2361.0  3100.0  2965.0  4777.0  0.229542  0.202204  0.081715\n",
      "3     4284.0  1768.0  4476.0  1126.0  0.432229  0.616235  0.137228\n",
      "4     2318.0  1065.0  3405.0  1828.0  0.608265  0.714700  0.182719\n",
      "...      ...     ...     ...     ...       ...       ...       ...\n",
      "8995  4289.0  1514.0  4757.0  1661.0  0.988738  0.018515  0.719870\n",
      "8996  2867.0  4078.0  4307.0  1999.0  0.259999  0.950082  0.393783\n",
      "8997  3437.0  1592.0  4633.0  3416.0  0.569203  0.621634  0.417795\n",
      "8998  2312.0  1815.0  3414.0  1737.0  0.755146  0.446542  0.789170\n",
      "8999  4118.0  3864.0  1957.0  3561.0  0.255738  0.407732  0.736328\n",
      "\n",
      "[9000 rows x 7 columns]\n",
      "           0       1       2       3         4         5         6\n",
      "0     -352.0  3213.0  4441.0  -109.0  0.726941  0.585432  0.475426\n",
      "1     1175.0  2742.0  -669.0  4082.0  0.694806  0.262529  0.074933\n",
      "2     4234.0  -470.0  4260.0   718.0  0.646581  0.558037  0.806440\n",
      "3     2600.0  4276.0  2319.0  3042.0  0.289672  0.883781  0.070276\n",
      "4      778.0   137.0  2557.0   437.0  0.615041  0.113389  0.005651\n",
      "...      ...     ...     ...     ...       ...       ...       ...\n",
      "8995  4181.0   950.0  3265.0  4053.0  0.669467  0.636600  0.850202\n",
      "8996  4568.0   282.0  2884.0   957.0  0.977635  0.443007  0.079145\n",
      "8997  -347.0   300.0  -784.0  2185.0  0.962665  0.376016  0.116537\n",
      "8998  2812.0   620.0  3575.0  1273.0  0.872992  0.626095  0.911514\n",
      "8999  4364.0  1161.0  4913.0  2756.0  0.055555  0.139706  0.868020\n",
      "\n",
      "[9000 rows x 7 columns]\n"
     ]
    }
   ],
   "source": [
    "corrupt_the_file('fomin')\n",
    "corrupt_the_file('cherkasov')"
   ]
  },
  {
   "cell_type": "code",
   "execution_count": 2,
   "id": "b1e09db3-8f96-447d-943a-e157f0f1df2e",
   "metadata": {},
   "outputs": [
    {
     "name": "stdout",
     "output_type": "stream",
     "text": [
      "           0       1       2       3         4         5         6\n",
      "0     -352.0  3213.0  4441.0  -109.0  0.726941  0.585432  0.475426\n",
      "1     1175.0  2742.0  -669.0  4082.0  0.694806  0.262529  0.074933\n",
      "2     4234.0  -470.0  4260.0   718.0  0.646581  0.558037  0.806440\n",
      "3     2600.0  4276.0  2319.0  3042.0  0.289672  0.883781  0.070276\n",
      "4      778.0   137.0  2557.0   437.0  0.615041  0.113389  0.005651\n",
      "...      ...     ...     ...     ...       ...       ...       ...\n",
      "8995  4181.0   950.0  3265.0  4053.0  0.669467  0.636600  0.850202\n",
      "8996  4568.0   282.0  2884.0   957.0  0.977635  0.443007  0.079145\n",
      "8997  -347.0   300.0  -784.0  2185.0  0.962665  0.376016  0.116537\n",
      "8998  2812.0   620.0  3575.0  1273.0  0.872992  0.626095  0.911514\n",
      "8999  4364.0  1161.0  4913.0  2756.0  0.055555  0.139706  0.868020\n",
      "\n",
      "[9000 rows x 7 columns]\n"
     ]
    }
   ],
   "source": [
    "df = pd.read_csv('cherkasov_corrupted',sep='\\t')#, dtype = dt)\n",
    "df.columns = [x for x in range(7)]\n",
    "print(df)"
   ]
  },
  {
   "cell_type": "code",
   "execution_count": 11,
   "id": "036347eb-e365-424b-a52a-2b99ab92a052",
   "metadata": {},
   "outputs": [],
   "source": [
    "def process_data(df):\n",
    "    print(\"Medium 4:6: \", df.loc[:,4:6].values.sum()/df.loc[:,4:6].shape[0])\n",
    "    min_int = df.loc[:,0:3].values.sum() % 100\n",
    "    print(\"min: \", min_int)\n",
    "    print(\"Factorial of min % 100: \", factorial(min_int))"
   ]
  },
  {
   "cell_type": "code",
   "execution_count": 8,
   "id": "eb57e5f6-a07a-4c83-a267-8625fa77b449",
   "metadata": {},
   "outputs": [],
   "source": [
    "def mask(df,key):\n",
    "    m = (df[key].isnull() == False) & (np.isnan(df[key]) == False) & (df[key].astype(\"int\") == df[key])\n",
    "    return df[m]\n",
    "\n",
    "def float_mask(df,key):\n",
    "    m = (df[key].isnull() == False) & (np.isnan(df[key]) == False)\n",
    "    return df[m]\n",
    "\n",
    "def map_data(df):\n",
    "    pd.DataFrame.mask = mask\n",
    "    clear_data = df.mask(0).mask(1).mask(2).mask(3)\n",
    "    pd.DataFrame.mask = float_mask\n",
    "    clear_data = clear_data.mask(4).mask(5).mask(6)\n",
    "    clear_data = clear_data.astype({0 : \"int\", 1 : \"int\", 2 : \"int\", 3 : \"int\"})\n",
    "    return clear_data"
   ]
  },
  {
   "cell_type": "code",
   "execution_count": 12,
   "id": "863db48a-9b6e-41e3-929c-4303deca1257",
   "metadata": {},
   "outputs": [
    {
     "name": "stdout",
     "output_type": "stream",
     "text": [
      "Medium 4:6:  1.4973046431383559\n",
      "min:  35\n",
      "Factorial of min % 100:  10333147966386144929666651337523200000000\n"
     ]
    }
   ],
   "source": [
    "clear_data = map_data(df)\n",
    "process_data(clear_data)"
   ]
  },
  {
   "cell_type": "code",
   "execution_count": null,
   "id": "1cfff834-5670-46fe-a78d-896438ef6384",
   "metadata": {},
   "outputs": [],
   "source": []
  }
 ],
 "metadata": {
  "kernelspec": {
   "display_name": "Python 3 (ipykernel)",
   "language": "python",
   "name": "python3"
  },
  "language_info": {
   "codemirror_mode": {
    "name": "ipython",
    "version": 3
   },
   "file_extension": ".py",
   "mimetype": "text/x-python",
   "name": "python",
   "nbconvert_exporter": "python",
   "pygments_lexer": "ipython3",
   "version": "3.9.2"
  }
 },
 "nbformat": 4,
 "nbformat_minor": 5
}
